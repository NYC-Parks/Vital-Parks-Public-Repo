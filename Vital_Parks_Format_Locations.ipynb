{
 "cells": [
  {
   "cell_type": "markdown",
   "metadata": {},
   "source": [
    "# Vital Parks Script Part 2"
   ]
  },
  {
   "cell_type": "markdown",
   "metadata": {},
   "source": [
    "## This is the part of the vital parks script that gathers and formats the location data for each subcategory."
   ]
  },
  {
   "cell_type": "markdown",
   "metadata": {},
   "source": [
    "## This involves creating Location-Display and Location_Access tables for each sub-category"
   ]
  },
  {
   "cell_type": "markdown",
   "metadata": {},
   "source": [
    "# Import Packages"
   ]
  },
  {
   "cell_type": "code",
   "execution_count": 1,
   "metadata": {},
   "outputs": [],
   "source": [
    "import networkx as nx\n",
    "import pandas as pd \n",
    "import geopandas as gpd\n",
    "from shapely.geometry import Point, LineString, Polygon, MultiPolygon\n",
    "from shapely.geometry import Polygon, Point\n",
    "import requests\n",
    "import zipfile\n",
    "import io"
   ]
  },
  {
   "cell_type": "markdown",
   "metadata": {},
   "source": [
    "# Get Locations"
   ]
  },
  {
   "cell_type": "markdown",
   "metadata": {},
   "source": [
    "## Import Structures and Allsites Tables to match some locations"
   ]
  },
  {
   "cell_type": "markdown",
   "metadata": {},
   "source": [
    "### Public Data"
   ]
  },
  {
   "cell_type": "code",
   "execution_count": 2,
   "metadata": {},
   "outputs": [],
   "source": [
    "allsites_sql = ('''https://data.cityofnewyork.us/resource/buk3-3qpr.geojson?$select=prop_id,multipolygon&$limit=50000''')\n",
    "allsites = gpd.read_file(allsites_sql).to_crs(2263)"
   ]
  },
  {
   "cell_type": "code",
   "execution_count": 3,
   "metadata": {},
   "outputs": [],
   "source": [
    "funcional_groups_sql = ('''https://data.cityofnewyork.us/resource/xhvt-s4va.geojson?$select=gispropnum,multipolygon&$limit=50000''')\n",
    "funcional_groups = gpd.read_file(funcional_groups_sql).to_crs(2263)\n",
    "funcional_groups = funcional_groups.rename(columns={'gispropnum':'prop_id'})\n",
    "funcional_groups = funcional_groups[funcional_groups['prop_id'].str.contains('Group')]"
   ]
  },
  {
   "cell_type": "code",
   "execution_count": 4,
   "metadata": {},
   "outputs": [],
   "source": [
    "allsites = pd.concat([allsites,funcional_groups])"
   ]
  },
  {
   "cell_type": "code",
   "execution_count": 5,
   "metadata": {},
   "outputs": [],
   "source": [
    "Structures_sql = ('''https://data.cityofnewyork.us/resource/n8q6-i44s.geojson?$limit=50000''')\n",
    "Structures = gpd.read_file(Structures_sql).to_crs(2263)"
   ]
  },
  {
   "cell_type": "markdown",
   "metadata": {},
   "source": [
    "## Format and upload Locations for each category (Sometimes access/display can be different)"
   ]
  },
  {
   "cell_type": "code",
   "execution_count": 6,
   "metadata": {},
   "outputs": [],
   "source": [
    "Category_locations_raw = {}\n",
    "\n",
    "Category_locations_for_display = {}\n",
    "Category_locations_for_access = {}"
   ]
  },
  {
   "cell_type": "markdown",
   "metadata": {},
   "source": [
    "## Athletic Facilities"
   ]
  },
  {
   "cell_type": "code",
   "execution_count": 7,
   "metadata": {},
   "outputs": [],
   "source": [
    "current_category_type = 'Athletic_Facility'\n",
    "\n",
    "###################################################\n",
    "# Import Current athletic facilities\n",
    "###################################################\n",
    "athletic_facilities_sql = ('''https://data.cityofnewyork.us/resource/qnem-b8re.geojson?$select=featurestatus,primary_sport,multipolygon&$limit=50000 ''')\n",
    "athletic_facilities_raw = gpd.read_file(athletic_facilities_sql).to_crs(2263)\n",
    "athletic_facilities_raw = athletic_facilities_raw[athletic_facilities_raw['featurestatus'].isin(['Active','Closed Temporarily'])]\n",
    "\n",
    "\n",
    "Category_locations_for_display[current_category_type] = athletic_facilities_raw.reset_index(drop=True)\n",
    "\n",
    "Category_locations_for_display[current_category_type]['Category'] = current_category_type\n",
    "Category_locations_for_display[current_category_type]['Future'] = 'No'\n",
    "Category_locations_for_display[current_category_type] = Category_locations_for_display[current_category_type].rename(columns={'primary_sport':'Feature'})\n",
    "\n",
    "Category_locations_for_display[current_category_type].loc[Category_locations_for_display[current_category_type]['Feature']=='HDB','Feature'] = 'Handball'\n",
    "Category_locations_for_display[current_category_type].loc[Category_locations_for_display[current_category_type]['Feature']=='BKB','Feature'] = 'Basketball'\n",
    "Category_locations_for_display[current_category_type].loc[Category_locations_for_display[current_category_type]['Feature']=='TNS','Feature'] = 'Tennis'\n",
    "Category_locations_for_display[current_category_type].loc[Category_locations_for_display[current_category_type]['Feature']=='SFB','Feature'] = 'Softball'\n",
    "Category_locations_for_display[current_category_type].loc[Category_locations_for_display[current_category_type]['Feature']=='SCR','Feature'] = 'Soccer'\n",
    "Category_locations_for_display[current_category_type].loc[Category_locations_for_display[current_category_type]['Feature']=='BSB','Feature'] = 'Baseball'\n",
    "Category_locations_for_display[current_category_type].loc[Category_locations_for_display[current_category_type]['Feature']=='VLB','Feature'] = 'Volleyball'\n",
    "Category_locations_for_display[current_category_type].loc[Category_locations_for_display[current_category_type]['Feature']=='TRK','Feature'] = 'Track'\n",
    "Category_locations_for_display[current_category_type].loc[Category_locations_for_display[current_category_type]['Feature']=='FTB','Feature'] = 'Football'\n",
    "Category_locations_for_display[current_category_type].loc[Category_locations_for_display[current_category_type]['Feature']=='MPPA','Feature'] = 'Multipurpose'\n",
    "Category_locations_for_display[current_category_type].loc[Category_locations_for_display[current_category_type]['Feature']=='BOC','Feature'] = 'Bocce'\n",
    "Category_locations_for_display[current_category_type].loc[Category_locations_for_display[current_category_type]['Feature']=='CRK','Feature'] = 'Cricket'\n",
    "Category_locations_for_display[current_category_type].loc[Category_locations_for_display[current_category_type]['Feature']=='PKB','Feature'] = 'Pickleball'\n",
    "Category_locations_for_display[current_category_type].loc[Category_locations_for_display[current_category_type]['Feature']=='HKY','Feature'] = 'Hockey'\n",
    "Category_locations_for_display[current_category_type].loc[Category_locations_for_display[current_category_type]['Feature']=='NTB','Feature'] = 'Netball'\n",
    "Category_locations_for_display[current_category_type].loc[Category_locations_for_display[current_category_type]['Feature']=='RBY','Feature'] = 'Rugby'\n",
    "Category_locations_for_display[current_category_type].loc[Category_locations_for_display[current_category_type]['Feature']=='FFB','Feature'] = 'Flagfootball'\n",
    "\n",
    "#Fix the two entries that dont have a primary sport\n",
    "Category_locations_for_display[current_category_type].loc[Category_locations_for_display[current_category_type]['Feature'].isna(),'Feature']='Handball'\n",
    "Category_locations_for_display[current_category_type].loc[:,'SubCategoryName'] = 'Cat:Athletic_Facility$Feature:'+Category_locations_for_display[current_category_type]['Feature'].astype(str) +'$Future:No'\n",
    "Category_locations_for_display[current_category_type] = Category_locations_for_display[current_category_type][['Category','SubCategoryName','Feature','Future','geometry']]\n",
    "\n",
    "\n",
    "##################################################\n",
    "# Import Current Skateparks\n",
    "##################################################\n",
    "skate_park_current_sql = ('''https://data.cityofnewyork.us/resource/8knb-zsb6.geojson''')\n",
    "skate_park_current = gpd.read_file(skate_park_current_sql).to_crs(2263)\n",
    "\n",
    "skate_park_current['Category'] = 'Athletic_Facility'\n",
    "skate_park_current['SubCategoryName'] = 'Cat:Athletic_Facility'+'$Feature:Skate_Park'+'$Future:No'\n",
    "skate_park_current['Feature'] = 'Skate_Park'\n",
    "skate_park_current['Future'] = 'No'\n",
    "\n",
    "skate_park_current = skate_park_current[['Category','SubCategoryName','Feature','Future','geometry']]\n",
    "###################################################\n",
    "###################################################\n",
    "\n",
    "\n",
    "###################################################\n",
    "# Concat display locations for athletic facilities with display locations for Skateparks\n",
    "###################################################\n",
    "Category_locations_for_display[current_category_type] = pd.concat([Category_locations_for_display[current_category_type],skate_park_current]).reset_index(drop=True)\n",
    "###################################################\n",
    "###################################################\n",
    "\n",
    "\n",
    "###################################################\n",
    "# Define access locations to be the same as display locations for athletic facilities\n",
    "###################################################\n",
    "Category_locations_for_access[current_category_type] = Category_locations_for_display[current_category_type].copy()\n",
    "###################################################\n",
    "###################################################"
   ]
  },
  {
   "cell_type": "markdown",
   "metadata": {},
   "source": [
    "## Community Gardens (GreenThumb)"
   ]
  },
  {
   "cell_type": "code",
   "execution_count": 8,
   "metadata": {},
   "outputs": [],
   "source": [
    "current_category_type = 'GreenThumb'\n",
    "\n",
    "###################################################\n",
    "# Import Current Greenthumb community gardens\n",
    "###################################################\n",
    "Greenthumb_sql = ('''https://data.cityofnewyork.us/resource/p78i-pat6.geojson?$select=gardenname,status,multipolygon&$limit=50000''')\n",
    "Greenthumb_current = gpd.read_file(Greenthumb_sql).to_crs(2263)\n",
    "\n",
    "Greenthumb_current = Greenthumb_current[Greenthumb_current['status'].isin(['Active','Active (Unlicensed)'])]\n",
    "\n",
    "current_category_name = 'Cat:'+current_category_type +'$'+'Future:No'\n",
    "\n",
    "Greenthumb_current['Category'] = current_category_type\n",
    "Greenthumb_current['SubCategoryName'] = current_category_name\n",
    "Greenthumb_current['Future'] = 'No'\n",
    "\n",
    "Category_locations_for_display[current_category_type] = Greenthumb_current[['Category','SubCategoryName','Future','geometry']].reset_index(drop=True)\n",
    "####################################################\n",
    "####################################################\n",
    "\n",
    "\n",
    "###################################################\n",
    "# Define access locations to be the same as display locations for Greenthumb community gardens\n",
    "###################################################\n",
    "Category_locations_for_access[current_category_type] = Category_locations_for_display[current_category_type].copy()\n",
    "###################################################\n",
    "###################################################"
   ]
  },
  {
   "cell_type": "markdown",
   "metadata": {},
   "source": [
    "## Cooling Features"
   ]
  },
  {
   "cell_type": "code",
   "execution_count": null,
   "metadata": {},
   "outputs": [],
   "source": [
    "current_category_type = 'Cooling_Feature'\n",
    "\n",
    "###################################################\n",
    "# Import Drinking Fountains\n",
    "###################################################\n",
    "Drinking_fountain_sql = ('''https://data.cityofnewyork.us/resource/qnv7-p7a2.geojson?$limit=50000''')\n",
    "Drinking_fountain = gpd.read_file(Drinking_fountain_sql).to_crs(2263)\n",
    "Drinking_fountain = Drinking_fountain[Drinking_fountain['featuresta'].isin(['Active','Closed Temporarily'])]\n",
    "Drinking_fountain = Drinking_fountain[Drinking_fountain['position']!='Indoor']\n",
    "\n",
    "current_category_name = 'Cat:Cooling_Feature'+'$Feature:Drinking_Fountain'\n",
    "\n",
    "Drinking_fountain['Category'] = current_category_type\n",
    "Drinking_fountain['SubCategoryName'] = current_category_name\n",
    "Drinking_fountain['Feature'] = 'Drinking_Fountain'\n",
    "\n",
    "Category_locations_for_display[current_category_type] = Drinking_fountain[['Category','SubCategoryName','Feature','geometry']]\n",
    "###################################################\n",
    "###################################################\n",
    "\n",
    "\n",
    "###################################################\n",
    "# Import Spray Showers\n",
    "###################################################\n",
    "spray_shower_sql = ('''https://data.cityofnewyork.us/resource/ckaz-6gaa.geojson?$limit=50000''')\n",
    "spray_shower = gpd.read_file(spray_shower_sql).to_crs(2263)\n",
    "\n",
    "current_category_name = 'Cat:Cooling_Feature'+'$Feature:Spray_Shower'\n",
    "\n",
    "spray_shower['Category'] = current_category_type\n",
    "spray_shower['SubCategoryName'] = current_category_name\n",
    "spray_shower['Feature'] = 'spray_shower'\n",
    "\n",
    "spray_shower = spray_shower[['Category','SubCategoryName','Feature','geometry']]\n",
    "###################################################\n",
    "###################################################\n",
    "\n",
    "Category_locations_for_display[current_category_type] = pd.concat([Category_locations_for_display[current_category_type],spray_shower]).reset_index(drop=True)\n",
    "\n",
    "\n",
    "###################################################\n",
    "# Define access locations to be the same as display locations for Cooling Features\n",
    "###################################################\n",
    "Category_locations_for_access[current_category_type] = Category_locations_for_display[current_category_type].copy()\n",
    "###################################################\n",
    "###################################################\n"
   ]
  },
  {
   "cell_type": "markdown",
   "metadata": {},
   "source": [
    "## Dog Runs"
   ]
  },
  {
   "cell_type": "code",
   "execution_count": 10,
   "metadata": {},
   "outputs": [],
   "source": [
    "current_category_type = 'Dog_Run'\n",
    "\n",
    "###################################################\n",
    "# Import Current Dog Runs\n",
    "###################################################\n",
    "dog_run_sql = ('''https://data.cityofnewyork.us/resource/hxx3-bwgv.geojson?$select=name,featurestatus,the_geom&$limit=50000''')\n",
    "dog_run_current = gpd.read_file(dog_run_sql).to_crs(2263)\n",
    "dog_run_current = dog_run_current[dog_run_current['featurestatus'].isin(['Active','Closed Temporarily'])]\n",
    "\n",
    "current_category_name = 'Cat:Dog_Run'+'$Future:No'\n",
    "\n",
    "dog_run_current['Category'] = current_category_type\n",
    "dog_run_current['SubCategoryName'] = current_category_name\n",
    "dog_run_current['Future'] = 'No'\n",
    "\n",
    "Category_locations_for_display[current_category_type] = dog_run_current[['Category','SubCategoryName','Future','geometry']]\n",
    "###################################################\n",
    "###################################################\n",
    "\n",
    "###################################################\n",
    "# Define access locations to be the same as display locations for DogRuns\n",
    "###################################################\n",
    "Category_locations_for_access[current_category_type] = Category_locations_for_display[current_category_type].copy()\n",
    "###################################################\n",
    "###################################################"
   ]
  },
  {
   "cell_type": "markdown",
   "metadata": {},
   "source": [
    "## Forever Wild"
   ]
  },
  {
   "cell_type": "code",
   "execution_count": 11,
   "metadata": {},
   "outputs": [],
   "source": [
    "current_category_type = 'Forever_Wild'\n",
    "\n",
    "###################################################\n",
    "# Import Forever Wild Sites\n",
    "###################################################\n",
    "\n",
    "forever_wild_sql = ('''https://data.cityofnewyork.us/resource/48va-85tp.geojson?$select=propertyname,shape&$limit=50000''')\n",
    "forever_wild_sites = gpd.read_file(forever_wild_sql).to_crs(2263)\n",
    "\n",
    "current_category_name = 'Cat:Forever_Wild'\n",
    "\n",
    "forever_wild_sites['Category'] = current_category_type\n",
    "forever_wild_sites['SubCategoryName'] = current_category_name\n",
    "\n",
    "Category_locations_for_display[current_category_type] = forever_wild_sites[['Category','SubCategoryName','geometry']]\n",
    "###################################################\n",
    "###################################################\n",
    "\n",
    "###################################################\n",
    "# Define access locations to be the same as display locations for Forever Wild\n",
    "###################################################\n",
    "Category_locations_for_access[current_category_type] = Category_locations_for_display[current_category_type].copy()\n",
    "###################################################\n",
    "###################################################"
   ]
  },
  {
   "cell_type": "markdown",
   "metadata": {},
   "source": [
    "## Greenways"
   ]
  },
  {
   "cell_type": "markdown",
   "metadata": {},
   "source": [
    "### No Public Data?"
   ]
  },
  {
   "cell_type": "markdown",
   "metadata": {},
   "source": [
    "## Trails"
   ]
  },
  {
   "cell_type": "code",
   "execution_count": 12,
   "metadata": {},
   "outputs": [],
   "source": [
    "current_category_type = 'Trails'\n",
    "\n",
    "###################################################\n",
    "# Import Current Trails\n",
    "###################################################\n",
    "\n",
    "Trails_sql = ('''https://data.cityofnewyork.us/resource/vjbm-hsyr.geojson?$limit=50000''')\n",
    "Trails = gpd.read_file(Trails_sql).to_crs(2263)\n",
    "\n",
    "Trails.loc[:,'Future']='No'\n",
    "\n",
    "current_category_name = 'Cat:Trails'+'$Future:'+Trails['Future'].astype(str)\n",
    "\n",
    "Trails['Category'] = current_category_type\n",
    "Trails['SubCategoryName'] = current_category_name\n",
    "Trails['Future']='No'\n",
    "\n",
    "Trails = Trails[['Category','SubCategoryName','Future','geometry']]\n",
    "###################################################\n",
    "###################################################\n",
    "\n",
    "Category_locations_for_display[current_category_type] = Trails\n",
    "###################################################\n",
    "###################################################\n",
    "\n",
    "###################################################\n",
    "# Define access locations to be the same as display locations for Trails\n",
    "###################################################\n",
    "Category_locations_for_access[current_category_type] = Category_locations_for_display[current_category_type].copy()\n",
    "###################################################\n",
    "###################################################"
   ]
  },
  {
   "cell_type": "markdown",
   "metadata": {},
   "source": [
    "## Nature Centers"
   ]
  },
  {
   "cell_type": "markdown",
   "metadata": {},
   "source": [
    "### No Public Data"
   ]
  },
  {
   "cell_type": "code",
   "execution_count": 13,
   "metadata": {},
   "outputs": [],
   "source": [
    "# current_category_type = 'Nature_Center'\n",
    "\n",
    "# ###################################################\n",
    "# # Import Nature Centers\n",
    "# ###################################################\n",
    "\n",
    "# Nature_Centers = Structures[Structures['StructureFunction']=='Nature Center'].reset_index(drop=True)\n",
    "# Nature_Centers = Nature_Centers[Nature_Centers['FEATURESTATUS'].isin(['Active','Closed Temporarily'])]\n",
    "# Nature_Centers = Nature_Centers.rename_geometry('geometry')\n",
    "\n",
    "# current_category_name = 'Cat:Nature_Center'\n",
    "\n",
    "# Nature_Centers['Category'] = current_category_type\n",
    "# Nature_Centers['SubCategoryName'] = current_category_name\n",
    "\n",
    "# Category_locations_for_display[current_category_type] = Nature_Centers[['Category','SubCategoryName','geometry']]\n",
    "# ###################################################\n",
    "# ###################################################\n",
    "\n",
    "# ###################################################\n",
    "# # Define access locations to be the same as display locations for Nature Centers\n",
    "# ###################################################\n",
    "# Category_locations_for_access[current_category_type] = Category_locations_for_display[current_category_type].copy()\n",
    "# ###################################################\n",
    "# ###################################################"
   ]
  },
  {
   "cell_type": "markdown",
   "metadata": {},
   "source": [
    "## Capital"
   ]
  },
  {
   "cell_type": "code",
   "execution_count": 14,
   "metadata": {},
   "outputs": [],
   "source": [
    "current_category_type = 'Capital'\n",
    "\n",
    "###################################################\n",
    "# Import Completed and Future Capital Projects\n",
    "###################################################\n",
    "\n",
    "all_capital_sql = ('''https://data.cityofnewyork.us/resource/4hcv-tc5r.json?$select=totalfunding,currentphase,parkid,constructionactualcompletion&$limit=50000''')\n",
    "all_capital = pd.read_json(all_capital_sql)\n",
    "\n",
    "all_capital.loc[all_capital['totalfunding'].str.contains('Between'),'totalfunding'] = '1000000'\n",
    "all_capital.loc[all_capital['totalfunding'].str.contains('Greater'),'totalfunding'] = '10000000'\n",
    "all_capital.loc[all_capital['totalfunding'].str.contains('Less'),'totalfunding'] = '0'\n",
    "all_capital['totalfunding'] = all_capital['totalfunding'].str.replace(',','').str.replace('$','')\n",
    "all_capital['totalfunding'] = all_capital['totalfunding'].astype(int)\n",
    "all_capital.loc[all_capital['totalfunding']>=400000,:]\n",
    "\n",
    "complete_capital = all_capital[all_capital['currentphase'] == 'completed']\n",
    "complete_capital = complete_capital.loc[(pd.Timestamp.now()-pd.to_datetime(complete_capital['constructionactualcompletion']))<pd.Timedelta(365*5,'days'),:]\n",
    "complete_capital = complete_capital['parkid'].unique()\n",
    "future_capital = all_capital[all_capital['currentphase']!='completed']['parkid'].unique()\n",
    "\n",
    "completed_capital_sites = allsites.loc[allsites['prop_id'].isin(complete_capital),:].copy()\n",
    "completed_capital_sites.loc[:,'Future'] = 'No'\n",
    "completed_capital_sites = completed_capital_sites[['geometry','Future']]\n",
    "\n",
    "future_capital_sites = allsites.loc[allsites['prop_id'].isin(future_capital),:].copy()\n",
    "future_capital_sites.loc[:,'Future'] = 'Yes'\n",
    "future_capital_sites = future_capital_sites[['geometry','Future']]\n",
    "Capital_projects = pd.concat([completed_capital_sites,future_capital_sites]).reset_index(drop=True)\n",
    "\n",
    "current_category_name = 'Cat:Capital'+'$Future:'+Capital_projects['Future'].astype(str)\n",
    "\n",
    "Capital_projects['Category'] = current_category_type\n",
    "Capital_projects['SubCategoryName'] = current_category_name\n",
    "\n",
    "Category_locations_for_display[current_category_type] = Capital_projects[['Category','SubCategoryName','Future','geometry']]\n",
    "\n",
    "###################################################\n",
    "# Define access locations to be the same as display locations for capital projects\n",
    "###################################################\n",
    "Category_locations_for_access[current_category_type] = Category_locations_for_display[current_category_type].copy()\n",
    "###################################################\n",
    "###################################################\n"
   ]
  },
  {
   "cell_type": "markdown",
   "metadata": {},
   "source": [
    "## Engaged Partner Groups"
   ]
  },
  {
   "cell_type": "code",
   "execution_count": 15,
   "metadata": {},
   "outputs": [],
   "source": [
    "current_category_type = 'Engaged_Partner'\n",
    "\n",
    "###################################################\n",
    "# Import partner group locations\n",
    "###################################################\n",
    "\n",
    "partner_groups_sql = ('''https://www.nycgovparks.org/bigapps/DPR_VolunteeringGroups_001.json?$limit=50000''')\n",
    "partner_groups = pd.read_json(partner_groups_sql)\n",
    "partner_groups = gpd.GeoDataFrame(partner_groups, geometry=gpd.points_from_xy(partner_groups['lng'], partner_groups['lat']), crs=\"EPSG:4326\")\n",
    "partner_groups = partner_groups.to_crs(2263)\n",
    "\n",
    "current_category_name = 'Cat:'+current_category_type\n",
    "\n",
    "partner_groups['Category'] = current_category_type\n",
    "partner_groups['SubCategoryName'] = current_category_name\n",
    "\n",
    "Category_locations_for_display[current_category_type] = partner_groups[['Category','SubCategoryName','geometry']]\n",
    "\n",
    "###################################################\n",
    "# Define access locations to be the same as display locations for partner groups\n",
    "###################################################\n",
    "Category_locations_for_access[current_category_type] = Category_locations_for_display[current_category_type].copy()\n",
    "###################################################\n",
    "###################################################"
   ]
  },
  {
   "cell_type": "markdown",
   "metadata": {},
   "source": [
    "## PEP"
   ]
  },
  {
   "cell_type": "markdown",
   "metadata": {},
   "source": [
    "### No Public Data"
   ]
  },
  {
   "cell_type": "markdown",
   "metadata": {},
   "source": [
    "## Parks Score"
   ]
  },
  {
   "cell_type": "markdown",
   "metadata": {},
   "source": [
    "### No Public Data"
   ]
  },
  {
   "cell_type": "markdown",
   "metadata": {},
   "source": [
    "## Playgrounds"
   ]
  },
  {
   "cell_type": "code",
   "execution_count": 16,
   "metadata": {},
   "outputs": [],
   "source": [
    "current_category_type = 'Playgrounds'\n",
    "\n",
    "###################################################\n",
    "# Import current and future playgrounds\n",
    "###################################################\n",
    "playgrounds_sql = ('''https://data.cityofnewyork.us/resource/j55h-3upk.geojson?$limit=50000''')\n",
    "playgrounds = gpd.read_file(playgrounds_sql).to_crs(2263)\n",
    "\n",
    "current_category_name = 'Cat:Playgrounds'+'$Future:No'\n",
    "\n",
    "playgrounds['Category'] = current_category_type\n",
    "playgrounds['SubCategoryName'] = current_category_name\n",
    "playgrounds['Future'] = 'No'\n",
    "\n",
    "Category_locations_for_display[current_category_type] = playgrounds[['Category','SubCategoryName','Future','geometry']].reset_index(drop=True)\n",
    "\n",
    "###################################################\n",
    "# Define access locations to be the same as display locations for playgrounds\n",
    "###################################################\n",
    "Category_locations_for_access[current_category_type] = Category_locations_for_display[current_category_type].copy()\n",
    "###################################################\n",
    "###################################################"
   ]
  },
  {
   "cell_type": "markdown",
   "metadata": {},
   "source": [
    "## Education and Enrichment"
   ]
  },
  {
   "cell_type": "code",
   "execution_count": 17,
   "metadata": {},
   "outputs": [],
   "source": [
    "current_category_type = 'Education_Enrichment'\n",
    "\n",
    "###################################################\n",
    "# Import past and future public education and enrichment events\n",
    "###################################################\n",
    "Past_Year_Public_Events_sql = ('''https://www.nycgovparks.org/bigapps/DPR_PastYearEventCounts_001.json''')\n",
    "Past_Year_Public_Events = pd.read_json(Past_Year_Public_Events_sql)\n",
    "Past_Year_Public_Events['Future'] = 'No'\n",
    "\n",
    "Future_Public_Events_sql = ('''https://www.nycgovparks.org/bigapps/DPR_UpcomingEventCounts_001.json''')\n",
    "Future_Public_Events = pd.read_json(Future_Public_Events_sql)\n",
    "Future_Public_Events['Future']='Yes'\n",
    "\n",
    "Public_Events = pd.concat([Past_Year_Public_Events,Future_Public_Events]).reset_index(drop=True)\n",
    "Public_Events = Public_Events.merge(allsites, left_on='propID', right_on='prop_id')\n",
    "Public_Events = gpd.GeoDataFrame(Public_Events, geometry='geometry', crs=2263)\n",
    "\n",
    "current_category_name = 'Cat:Education_Enrichment'+'$Future:'+Public_Events['Future'].astype(str)\n",
    "\n",
    "Public_Events['Category'] = current_category_type\n",
    "Public_Events['SubCategoryName'] = current_category_name\n",
    "\n",
    "Category_locations_for_display[current_category_type] = Public_Events[['Category','SubCategoryName','Future','geometry']]\n",
    "###################################################\n",
    "###################################################\n",
    "\n",
    "\n",
    "###################################################\n",
    "# Define access locations to be the same as display locations for education and enrichment events\n",
    "###################################################\n",
    "Category_locations_for_access[current_category_type] = Category_locations_for_display[current_category_type].copy()\n",
    "###################################################\n",
    "###################################################"
   ]
  },
  {
   "cell_type": "markdown",
   "metadata": {},
   "source": [
    "## Public Restrooms"
   ]
  },
  {
   "cell_type": "code",
   "execution_count": 18,
   "metadata": {},
   "outputs": [],
   "source": [
    "current_category_type = 'Public_Restroom'\n",
    "\n",
    "###################################################\n",
    "# Import Current Public Restrooms\n",
    "###################################################\n",
    "\n",
    "current_public_restrooms = Structures[Structures['public_restroom']]\n",
    "current_public_restrooms = current_public_restrooms[current_public_restrooms['featurestatus'].isin(['Active','Closed Temporarily'])]\n",
    "\n",
    "current_category_name = 'Cat:'+current_category_type +'$Feature:Not_Concession'+'$Future:No'\n",
    "\n",
    "current_public_restrooms['Category'] = current_category_type\n",
    "current_public_restrooms['SubCategoryName'] = current_category_name\n",
    "current_public_restrooms['Feature'] = 'Not_Concession'\n",
    "current_public_restrooms['Future'] = 'No'\n",
    "\n",
    "Category_locations_for_display[current_category_type] = current_public_restrooms[['Category','SubCategoryName','Feature','Future','geometry']].reset_index(drop=True)\n",
    "\n",
    "###################################################\n",
    "# Define access locations to be the same as display locations for Public Restrooms\n",
    "###################################################\n",
    "Category_locations_for_access[current_category_type] = Category_locations_for_display[current_category_type].copy()\n",
    "###################################################\n",
    "###################################################"
   ]
  },
  {
   "cell_type": "markdown",
   "metadata": {},
   "source": [
    "## Recreation Centers"
   ]
  },
  {
   "cell_type": "code",
   "execution_count": 19,
   "metadata": {},
   "outputs": [],
   "source": [
    "current_category_type = 'Rec_Center'\n",
    "\n",
    "###################################################\n",
    "# Import Current Rec Centers\n",
    "###################################################\n",
    "\n",
    "current_rec_centers = Structures[Structures['recreation_center']]\n",
    "current_rec_centers = current_rec_centers[current_rec_centers['featurestatus'].isin(['Active','Closed Temporarily'])]\n",
    "\n",
    "current_category_name = 'Cat:'+current_category_type+'$Future:No'\n",
    "\n",
    "current_rec_centers['Category'] = current_category_type\n",
    "current_rec_centers['SubCategoryName'] = current_category_name\n",
    "current_rec_centers['Future'] = 'No'\n",
    "\n",
    "Category_locations_for_display[current_category_type] = current_rec_centers[['Category','SubCategoryName','Future','geometry']].reset_index(drop=True)\n",
    "\n",
    "###################################################\n",
    "# Define access locations to be the same as display locations for Rec Centers\n",
    "###################################################\n",
    "Category_locations_for_access[current_category_type] = Category_locations_for_display[current_category_type].copy()\n",
    "###################################################\n",
    "###################################################"
   ]
  },
  {
   "cell_type": "markdown",
   "metadata": {},
   "source": [
    "## Tree Stocking (Blocks)"
   ]
  },
  {
   "cell_type": "markdown",
   "metadata": {},
   "source": [
    "### No Public Data"
   ]
  },
  {
   "cell_type": "markdown",
   "metadata": {},
   "source": [
    "## Swimming"
   ]
  },
  {
   "cell_type": "code",
   "execution_count": 20,
   "metadata": {},
   "outputs": [],
   "source": [
    "current_category_type = 'Swimming'\n",
    "\n",
    "###################################################\n",
    "# Import Current Pools\n",
    "###################################################\n",
    "pools_sql = ('''https://data.cityofnewyork.us/resource/y5rm-wagw.geojson?$select=name,location,polygon&$limit=50000''')\n",
    "current_pools = gpd.read_file(pools_sql).to_crs(2263)\n",
    "\n",
    "current_pools['Feature'] = current_pools['location'].astype(str)+'_Pool'\n",
    "current_pools['Future'] = 'No'\n",
    "current_pools['Category'] = current_category_type\n",
    "\n",
    "current_category_name = 'Cat:Swimming'+'$Feature:'+current_pools['Feature'].astype(str)+ '$Future:No'\n",
    "current_pools['SubCategoryName'] = current_category_name\n",
    "\n",
    "current_pools = current_pools[['Category','SubCategoryName','Feature','Future','geometry']]\n",
    "###################################################\n",
    "###################################################\n",
    "\n",
    "###################################################\n",
    "# Import Beaches\n",
    "###################################################\n",
    "beach_sql = ('''https://data.cityofnewyork.us/resource/ijwa-mn2v.geojson?$select=name,multipolygon&$limit=50000''')\n",
    "beaches = gpd.read_file(beach_sql).to_crs(2263)\n",
    "\n",
    "current_category_name = 'Cat:Swimming'+'$Feature:Beach' + '$Future:No'\n",
    "\n",
    "beaches['Feature'] = 'Beach'\n",
    "beaches['Future'] = 'No'\n",
    "beaches['Category'] = 'Swimming'\n",
    "beaches['SubCategoryName'] = current_category_name\n",
    "\n",
    "beaches = beaches[['Category','SubCategoryName','Feature','Future','geometry']]\n",
    "\n",
    "###################################################\n",
    "Category_locations_for_display[current_category_type] = pd.concat([current_pools,beaches]).reset_index(drop=True)\n",
    "\n",
    "###################################################\n",
    "# Define access locations to be the same as display locations for Public Restrooms\n",
    "###################################################\n",
    "Category_locations_for_access[current_category_type] = Category_locations_for_display[current_category_type].copy()\n",
    "###################################################\n",
    "###################################################"
   ]
  },
  {
   "cell_type": "markdown",
   "metadata": {},
   "source": [
    "## Tree_Canopy"
   ]
  },
  {
   "cell_type": "markdown",
   "metadata": {},
   "source": [
    "### No Public Data"
   ]
  },
  {
   "cell_type": "markdown",
   "metadata": {},
   "source": [
    "## Volunteer Events"
   ]
  },
  {
   "cell_type": "code",
   "execution_count": 21,
   "metadata": {},
   "outputs": [],
   "source": [
    "current_category_type = 'Volunteer'\n",
    "\n",
    "###################################################\n",
    "# Import past and future public education and enrichment events\n",
    "###################################################\n",
    "Past_Year_VolunteerEvents_sql = ('''https://www.nycgovparks.org/bigapps/DPR_Volunteer_Events_past_365_days_001.json''')\n",
    "Past_Year_VolunteerEvents = pd.read_json(Past_Year_VolunteerEvents_sql)\n",
    "Past_Year_VolunteerEvents['Future'] = 'No'\n",
    "\n",
    "Future_VolunteerEvents_sql = ('''https://www.nycgovparks.org/bigapps/DPR_Volunteer_Events_upcoming_90_days_001.json''')\n",
    "Future_VolunteerEvents = pd.read_json(Future_VolunteerEvents_sql)\n",
    "Future_VolunteerEvents['Future']='Yes'\n",
    "\n",
    "VolunteerEvents = pd.concat([Past_Year_VolunteerEvents,Future_VolunteerEvents])\n",
    "VolunteerEvents = gpd.GeoDataFrame(VolunteerEvents, geometry=gpd.points_from_xy(VolunteerEvents['lng'], VolunteerEvents['lat']), crs=\"EPSG:4326\")\n",
    "VolunteerEvents = VolunteerEvents.to_crs(2263)\n",
    "\n",
    "current_category_name = 'Cat:Education_Enrichment'+'$Future:'+VolunteerEvents['Future'].astype(str)\n",
    "\n",
    "VolunteerEvents['Category'] = current_category_type\n",
    "VolunteerEvents['SubCategoryName'] = current_category_name\n",
    "\n",
    "Category_locations_for_display[current_category_type] = VolunteerEvents[['Category','SubCategoryName','Future','geometry']].reset_index(drop=True)\n",
    "###################################################\n",
    "###################################################\n",
    "\n",
    "\n",
    "###################################################\n",
    "# Define access locations to be the same as display locations for volunteer events\n",
    "###################################################\n",
    "Category_locations_for_access[current_category_type] = Category_locations_for_display[current_category_type].copy()\n",
    "###################################################\n",
    "###################################################"
   ]
  },
  {
   "cell_type": "markdown",
   "metadata": {},
   "source": [
    "## Waterfronts"
   ]
  },
  {
   "cell_type": "markdown",
   "metadata": {},
   "source": [
    "### No Public Data"
   ]
  },
  {
   "cell_type": "markdown",
   "metadata": {},
   "source": [
    "# Upload/save all location data for all categories"
   ]
  },
  {
   "cell_type": "code",
   "execution_count": 26,
   "metadata": {},
   "outputs": [],
   "source": [
    "All_category_locations = pd.concat(Category_locations_for_access).reset_index(drop=True)"
   ]
  },
  {
   "cell_type": "code",
   "execution_count": null,
   "metadata": {},
   "outputs": [],
   "source": [
    "###################################################\n",
    "# Upload/save these category locations to SQL server, as a csv, or however you want to store it so that they can be accessed by the third vital parks script\n",
    "###################################################\n",
    "\n",
    "# All_category_locations.to_file('Category_locations.geojson', driver='GeoJSON')"
   ]
  },
  {
   "cell_type": "markdown",
   "metadata": {},
   "source": [
    "# END Vital Parks Script Part 2"
   ]
  }
 ],
 "metadata": {
  "kernelspec": {
   "display_name": "Python 3",
   "language": "python",
   "name": "python3"
  },
  "language_info": {
   "codemirror_mode": {
    "name": "ipython",
    "version": 3
   },
   "file_extension": ".py",
   "mimetype": "text/x-python",
   "name": "python",
   "nbconvert_exporter": "python",
   "pygments_lexer": "ipython3",
   "version": "3.12.3"
  }
 },
 "nbformat": 4,
 "nbformat_minor": 4
}
