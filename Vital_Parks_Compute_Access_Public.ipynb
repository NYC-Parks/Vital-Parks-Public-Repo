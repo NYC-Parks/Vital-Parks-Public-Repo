{
 "cells": [
  {
   "cell_type": "markdown",
   "metadata": {},
   "source": [
    "# Vital Parks Script Part 3"
   ]
  },
  {
   "cell_type": "markdown",
   "metadata": {},
   "source": [
    "## This vital parks script that combines the network from script 1 and the locations from script 2 and then, for each street segment, computes the travel time to the nearest location for each category"
   ]
  },
  {
   "cell_type": "markdown",
   "metadata": {},
   "source": [
    "# Set Parameters"
   ]
  },
  {
   "cell_type": "code",
   "execution_count": 1,
   "metadata": {},
   "outputs": [],
   "source": [
    "# This is the assigned walk speed in miles per hr\n",
    "walk_speed_miles_per_hr = 3.0\n",
    "walk_speed_feet_per_second = walk_speed_miles_per_hr*1.46667"
   ]
  },
  {
   "cell_type": "markdown",
   "metadata": {},
   "source": [
    "# Import Packages"
   ]
  },
  {
   "cell_type": "code",
   "execution_count": 2,
   "metadata": {},
   "outputs": [],
   "source": [
    "import networkx as nx\n",
    "import pandas as pd \n",
    "import geopandas as gpd\n",
    "import shapely\n",
    "from shapely.geometry import Point, LineString, Polygon, MultiPolygon\n",
    "from shapely.geometry import Polygon, Point\n",
    "import requests\n",
    "import zipfile\n",
    "import io"
   ]
  },
  {
   "cell_type": "code",
   "execution_count": 3,
   "metadata": {},
   "outputs": [],
   "source": [
    "# import networkx as nx\n",
    "# import random\n",
    "# import matplotlib.pyplot as plt\n",
    "# from matplotlib.cm import get_cmap\n",
    "# import pandas as pd \n",
    "# import time\n",
    "# import datetime\n",
    "# import geopandas as gpd\n",
    "# import seaborn as sns\n",
    "# import calendar\n",
    "# import matplotlib\n",
    "# from matplotlib.dates import WeekdayLocator, DayLocator, DateFormatter,HourLocator, MO, date2num, num2date\n",
    "# from matplotlib.ticker import FormatStrFormatter\n",
    "# from dateutil.relativedelta import relativedelta\n",
    "# from matplotlib.patches import Rectangle\n",
    "# from matplotlib.gridspec import GridSpec\n",
    "# import shapely\n",
    "# from shapely.geometry import Point, LineString, Polygon, MultiPolygon\n",
    "# import glob\n",
    "# import os\n",
    "# from shapely.geometry import Polygon, Point\n",
    "# from shapely.ops import unary_union\n",
    "# import itertools\n",
    "# import requests\n",
    "# import json\n",
    "# import matplotlib.colors as colors\n",
    "# import numpy as np\n",
    "# from dotenv import load_dotenv\n",
    "# import urllib\n",
    "# import sqlalchemy\n",
    "# import pyodbc\n",
    "# import sys\n",
    "# sys.path.insert(0, 'F:/Projects/IPM_Shared_Code/Python/')\n",
    "# import geo_functions\n",
    "# import fiona\n",
    "# import osmnx as ox\n",
    "# import momepy"
   ]
  },
  {
   "cell_type": "markdown",
   "metadata": {},
   "source": [
    "# Import Street Nodes"
   ]
  },
  {
   "cell_type": "code",
   "execution_count": 4,
   "metadata": {},
   "outputs": [],
   "source": [
    "vital_parks_street_nodes = gpd.read_file('Network_nodes.geojson')"
   ]
  },
  {
   "cell_type": "markdown",
   "metadata": {},
   "source": [
    "# Import Resources and match to nearest street nodes"
   ]
  },
  {
   "cell_type": "code",
   "execution_count": 5,
   "metadata": {},
   "outputs": [
    {
     "name": "stderr",
     "output_type": "stream",
     "text": [
      "C:\\Users\\benjamin.mirabelli\\AppData\\Local\\Temp\\ipykernel_3892\\850212672.py:3: FutureWarning: Currently, index_parts defaults to True, but in the future, it will default to False to be consistent with Pandas. Use `index_parts=True` to keep the current behavior and True/False to silence the warning.\n",
      "  category_locations = category_locations.explode().reset_index(drop=True)\n"
     ]
    }
   ],
   "source": [
    "category_locations = gpd.read_file('Category_locations.geojson')\n",
    "category_locations['geometry'] = category_locations.buffer(1)\n",
    "category_locations = category_locations.explode().reset_index(drop=True)\n",
    "category_locations = category_locations.reset_index().rename(columns={'index':'amenity_id'})\n",
    "category_locations['amenity_id'] = category_locations['amenity_id'].astype(str)\n",
    "category_locations['amenity_id'] = 'amenity_'+category_locations['amenity_id']\n",
    "\n",
    "amenity_nodes = category_locations[['amenity_id','Category','SubCategoryName','Feature','Future']]"
   ]
  },
  {
   "cell_type": "code",
   "execution_count": 6,
   "metadata": {},
   "outputs": [],
   "source": [
    "segmented_locations = category_locations.exterior.segmentize(25)\n",
    "segmented_locations = segmented_locations.get_coordinates()\n",
    "segmented_locations['geometry'] = gpd.points_from_xy(segmented_locations.x, segmented_locations.y, crs=2263)\n",
    "segmented_locations = segmented_locations.reset_index().rename(columns={'index':'amenity_id'})\n",
    "segmented_locations['amenity_id'] = 'amenity_'+segmented_locations['amenity_id'].astype(str)\n",
    "segmented_locations = gpd.GeoDataFrame(segmented_locations, geometry='geometry', crs=2263)\n",
    "segmented_locations = gpd.sjoin_nearest(segmented_locations,vital_parks_street_nodes, how='left', distance_col='dist')\n",
    "segmented_locations = segmented_locations[['amenity_id','street_node_id','dist']]\n",
    "segmented_locations = segmented_locations.groupby(['amenity_id','street_node_id']).agg({'dist':'min'}).reset_index()"
   ]
  },
  {
   "cell_type": "code",
   "execution_count": 7,
   "metadata": {},
   "outputs": [],
   "source": [
    "category_connections = category_locations.merge(segmented_locations, on='amenity_id',how='left')\n",
    "category_connections['mode'] = 'amenity_walk'\n",
    "category_connections = category_connections[['amenity_id','street_node_id','mode','dist']].rename(columns={'amenity_id':'source','street_node_id':'target'})\n",
    "category_connections.loc[:,'dist'] = category_connections.loc[:,'dist']/walk_speed_feet_per_second\n",
    "category_connections = category_connections.rename(columns={'dist':'weight'})"
   ]
  },
  {
   "cell_type": "code",
   "execution_count": 8,
   "metadata": {},
   "outputs": [],
   "source": [
    "Network_edges_all = gpd.read_file('Network_edges.geojson')"
   ]
  },
  {
   "cell_type": "code",
   "execution_count": 9,
   "metadata": {},
   "outputs": [],
   "source": [
    "Network_edges_walk = Network_edges_all[~Network_edges_all['mode'].str.contains('mta')]"
   ]
  },
  {
   "cell_type": "code",
   "execution_count": 10,
   "metadata": {},
   "outputs": [],
   "source": [
    "Network_edges_all_with_amenities = pd.concat([Network_edges_all,category_connections])\n",
    "\n",
    "all_attributes = Network_edges_all_with_amenities.columns[~Network_edges_all_with_amenities.columns.isin(['source','target'])].to_list()\n",
    "\n",
    "DG_all = nx.from_pandas_edgelist(Network_edges_all_with_amenities, create_using=nx.DiGraph(), edge_attr=all_attributes)"
   ]
  },
  {
   "cell_type": "code",
   "execution_count": 11,
   "metadata": {},
   "outputs": [],
   "source": [
    "Network_edges_walk_with_amenities = pd.concat([Network_edges_all,category_connections])\n",
    "\n",
    "walk_attributes = Network_edges_walk_with_amenities.columns[~Network_edges_walk_with_amenities.columns.isin(['source','target'])].to_list()\n",
    "\n",
    "DG_walk = nx.from_pandas_edgelist(Network_edges_walk_with_amenities, create_using=nx.DiGraph(), edge_attr=walk_attributes)"
   ]
  },
  {
   "cell_type": "code",
   "execution_count": 12,
   "metadata": {},
   "outputs": [],
   "source": [
    "travel_time_nodes = pd.DataFrame(set(Network_edges_walk['source'].unique()).union(Network_edges_walk['target'].unique())).rename(columns={0:'index'})\n",
    "\n",
    "for subcat in amenity_nodes['SubCategoryName'].unique():\n",
    "    shortest_path_raw_temp = nx.multi_source_dijkstra(DG_all, amenity_nodes.loc[amenity_nodes['SubCategoryName']==subcat,'amenity_id'].to_list(), cutoff=2*60*60, weight='weight')\n",
    "    shortest_path_temp = pd.DataFrame([shortest_path_raw_temp[0]]).transpose().rename(columns={0:subcat+'_mta_tt_'})\n",
    "    shortest_path_temp[subcat+'_mta_amenity_'] = pd.DataFrame([shortest_path_raw_temp[1]]).transpose()[0].apply(lambda x: x[0])\n",
    "    shortest_path_temp = shortest_path_temp.reset_index()\n",
    "    travel_time_nodes = travel_time_nodes.merge(shortest_path_temp, how='left', on='index')\n",
    "    \n",
    "for subcat in amenity_nodes['SubCategoryName'].unique():\n",
    "    shortest_path_raw_temp = nx.multi_source_dijkstra(DG_walk, amenity_nodes.loc[amenity_nodes['SubCategoryName']==subcat,'amenity_id'].to_list(), cutoff=2*60*60, weight='weight')\n",
    "    shortest_path_temp = pd.DataFrame([shortest_path_raw_temp[0]]).transpose().rename(columns={0:subcat+'_walk_tt_'})\n",
    "    shortest_path_temp[subcat+'_walk_amenity_'] = pd.DataFrame([shortest_path_raw_temp[1]]).transpose()[0].apply(lambda x: x[0])\n",
    "    shortest_path_temp = shortest_path_temp.reset_index()\n",
    "    travel_time_nodes = travel_time_nodes.merge(shortest_path_temp, how='left', on='index')\n",
    "    \n",
    "\n",
    "travel_source = travel_time_nodes.rename(columns={'index':''}).add_suffix('source')\n",
    "travel_target = travel_time_nodes.rename(columns={'index':''}).add_suffix('target')"
   ]
  },
  {
   "cell_type": "code",
   "execution_count": 13,
   "metadata": {},
   "outputs": [
    {
     "name": "stderr",
     "output_type": "stream",
     "text": [
      "C:\\Users\\benjamin.mirabelli\\AppData\\Local\\Temp\\ipykernel_3892\\3411824708.py:5: PerformanceWarning: DataFrame is highly fragmented.  This is usually the result of calling `frame.insert` many times, which has poor performance.  Consider joining all columns at once using pd.concat(axis=1) instead. To get a de-fragmented frame, use `newframe = frame.copy()`\n",
      "  edges_access_table.loc[:,'travel_time$'+subcat+'$travel_mode:walk'] = edges_access_table.loc[:,[subcat+'_walk_tt_source',subcat+'_walk_tt_target','weight']].sum(axis=1)/2\n",
      "C:\\Users\\benjamin.mirabelli\\AppData\\Local\\Temp\\ipykernel_3892\\3411824708.py:6: PerformanceWarning: DataFrame is highly fragmented.  This is usually the result of calling `frame.insert` many times, which has poor performance.  Consider joining all columns at once using pd.concat(axis=1) instead. To get a de-fragmented frame, use `newframe = frame.copy()`\n",
      "  edges_access_table.loc[:,'amenity$'+subcat+'$travel_mode:walk'] = edges_access_table.loc[:,subcat+'_walk_amenity_source']\n",
      "C:\\Users\\benjamin.mirabelli\\AppData\\Local\\Temp\\ipykernel_3892\\3411824708.py:11: PerformanceWarning: DataFrame is highly fragmented.  This is usually the result of calling `frame.insert` many times, which has poor performance.  Consider joining all columns at once using pd.concat(axis=1) instead. To get a de-fragmented frame, use `newframe = frame.copy()`\n",
      "  edges_access_table.loc[:,'travel_time$'+subcat+'$travel_mode:MTA'] = edges_access_table.loc[:,[subcat+'_mta_tt_source',subcat+'_mta_tt_target','weight']].sum(axis=1)/2\n",
      "C:\\Users\\benjamin.mirabelli\\AppData\\Local\\Temp\\ipykernel_3892\\3411824708.py:12: PerformanceWarning: DataFrame is highly fragmented.  This is usually the result of calling `frame.insert` many times, which has poor performance.  Consider joining all columns at once using pd.concat(axis=1) instead. To get a de-fragmented frame, use `newframe = frame.copy()`\n",
      "  edges_access_table.loc[:,'amenity$'+subcat+'$travel_mode:MTA'] = edges_access_table.loc[:,subcat+'_mta_amenity_source']\n",
      "C:\\Users\\benjamin.mirabelli\\AppData\\Local\\Temp\\ipykernel_3892\\3411824708.py:5: PerformanceWarning: DataFrame is highly fragmented.  This is usually the result of calling `frame.insert` many times, which has poor performance.  Consider joining all columns at once using pd.concat(axis=1) instead. To get a de-fragmented frame, use `newframe = frame.copy()`\n",
      "  edges_access_table.loc[:,'travel_time$'+subcat+'$travel_mode:walk'] = edges_access_table.loc[:,[subcat+'_walk_tt_source',subcat+'_walk_tt_target','weight']].sum(axis=1)/2\n",
      "C:\\Users\\benjamin.mirabelli\\AppData\\Local\\Temp\\ipykernel_3892\\3411824708.py:6: PerformanceWarning: DataFrame is highly fragmented.  This is usually the result of calling `frame.insert` many times, which has poor performance.  Consider joining all columns at once using pd.concat(axis=1) instead. To get a de-fragmented frame, use `newframe = frame.copy()`\n",
      "  edges_access_table.loc[:,'amenity$'+subcat+'$travel_mode:walk'] = edges_access_table.loc[:,subcat+'_walk_amenity_source']\n",
      "C:\\Users\\benjamin.mirabelli\\AppData\\Local\\Temp\\ipykernel_3892\\3411824708.py:11: PerformanceWarning: DataFrame is highly fragmented.  This is usually the result of calling `frame.insert` many times, which has poor performance.  Consider joining all columns at once using pd.concat(axis=1) instead. To get a de-fragmented frame, use `newframe = frame.copy()`\n",
      "  edges_access_table.loc[:,'travel_time$'+subcat+'$travel_mode:MTA'] = edges_access_table.loc[:,[subcat+'_mta_tt_source',subcat+'_mta_tt_target','weight']].sum(axis=1)/2\n",
      "C:\\Users\\benjamin.mirabelli\\AppData\\Local\\Temp\\ipykernel_3892\\3411824708.py:12: PerformanceWarning: DataFrame is highly fragmented.  This is usually the result of calling `frame.insert` many times, which has poor performance.  Consider joining all columns at once using pd.concat(axis=1) instead. To get a de-fragmented frame, use `newframe = frame.copy()`\n",
      "  edges_access_table.loc[:,'amenity$'+subcat+'$travel_mode:MTA'] = edges_access_table.loc[:,subcat+'_mta_amenity_source']\n",
      "C:\\Users\\benjamin.mirabelli\\AppData\\Local\\Temp\\ipykernel_3892\\3411824708.py:5: PerformanceWarning: DataFrame is highly fragmented.  This is usually the result of calling `frame.insert` many times, which has poor performance.  Consider joining all columns at once using pd.concat(axis=1) instead. To get a de-fragmented frame, use `newframe = frame.copy()`\n",
      "  edges_access_table.loc[:,'travel_time$'+subcat+'$travel_mode:walk'] = edges_access_table.loc[:,[subcat+'_walk_tt_source',subcat+'_walk_tt_target','weight']].sum(axis=1)/2\n",
      "C:\\Users\\benjamin.mirabelli\\AppData\\Local\\Temp\\ipykernel_3892\\3411824708.py:6: PerformanceWarning: DataFrame is highly fragmented.  This is usually the result of calling `frame.insert` many times, which has poor performance.  Consider joining all columns at once using pd.concat(axis=1) instead. To get a de-fragmented frame, use `newframe = frame.copy()`\n",
      "  edges_access_table.loc[:,'amenity$'+subcat+'$travel_mode:walk'] = edges_access_table.loc[:,subcat+'_walk_amenity_source']\n",
      "C:\\Users\\benjamin.mirabelli\\AppData\\Local\\Temp\\ipykernel_3892\\3411824708.py:11: PerformanceWarning: DataFrame is highly fragmented.  This is usually the result of calling `frame.insert` many times, which has poor performance.  Consider joining all columns at once using pd.concat(axis=1) instead. To get a de-fragmented frame, use `newframe = frame.copy()`\n",
      "  edges_access_table.loc[:,'travel_time$'+subcat+'$travel_mode:MTA'] = edges_access_table.loc[:,[subcat+'_mta_tt_source',subcat+'_mta_tt_target','weight']].sum(axis=1)/2\n",
      "C:\\Users\\benjamin.mirabelli\\AppData\\Local\\Temp\\ipykernel_3892\\3411824708.py:12: PerformanceWarning: DataFrame is highly fragmented.  This is usually the result of calling `frame.insert` many times, which has poor performance.  Consider joining all columns at once using pd.concat(axis=1) instead. To get a de-fragmented frame, use `newframe = frame.copy()`\n",
      "  edges_access_table.loc[:,'amenity$'+subcat+'$travel_mode:MTA'] = edges_access_table.loc[:,subcat+'_mta_amenity_source']\n",
      "C:\\Users\\benjamin.mirabelli\\AppData\\Local\\Temp\\ipykernel_3892\\3411824708.py:5: PerformanceWarning: DataFrame is highly fragmented.  This is usually the result of calling `frame.insert` many times, which has poor performance.  Consider joining all columns at once using pd.concat(axis=1) instead. To get a de-fragmented frame, use `newframe = frame.copy()`\n",
      "  edges_access_table.loc[:,'travel_time$'+subcat+'$travel_mode:walk'] = edges_access_table.loc[:,[subcat+'_walk_tt_source',subcat+'_walk_tt_target','weight']].sum(axis=1)/2\n",
      "C:\\Users\\benjamin.mirabelli\\AppData\\Local\\Temp\\ipykernel_3892\\3411824708.py:6: PerformanceWarning: DataFrame is highly fragmented.  This is usually the result of calling `frame.insert` many times, which has poor performance.  Consider joining all columns at once using pd.concat(axis=1) instead. To get a de-fragmented frame, use `newframe = frame.copy()`\n",
      "  edges_access_table.loc[:,'amenity$'+subcat+'$travel_mode:walk'] = edges_access_table.loc[:,subcat+'_walk_amenity_source']\n",
      "C:\\Users\\benjamin.mirabelli\\AppData\\Local\\Temp\\ipykernel_3892\\3411824708.py:11: PerformanceWarning: DataFrame is highly fragmented.  This is usually the result of calling `frame.insert` many times, which has poor performance.  Consider joining all columns at once using pd.concat(axis=1) instead. To get a de-fragmented frame, use `newframe = frame.copy()`\n",
      "  edges_access_table.loc[:,'travel_time$'+subcat+'$travel_mode:MTA'] = edges_access_table.loc[:,[subcat+'_mta_tt_source',subcat+'_mta_tt_target','weight']].sum(axis=1)/2\n",
      "C:\\Users\\benjamin.mirabelli\\AppData\\Local\\Temp\\ipykernel_3892\\3411824708.py:12: PerformanceWarning: DataFrame is highly fragmented.  This is usually the result of calling `frame.insert` many times, which has poor performance.  Consider joining all columns at once using pd.concat(axis=1) instead. To get a de-fragmented frame, use `newframe = frame.copy()`\n",
      "  edges_access_table.loc[:,'amenity$'+subcat+'$travel_mode:MTA'] = edges_access_table.loc[:,subcat+'_mta_amenity_source']\n",
      "C:\\Users\\benjamin.mirabelli\\AppData\\Local\\Temp\\ipykernel_3892\\3411824708.py:5: PerformanceWarning: DataFrame is highly fragmented.  This is usually the result of calling `frame.insert` many times, which has poor performance.  Consider joining all columns at once using pd.concat(axis=1) instead. To get a de-fragmented frame, use `newframe = frame.copy()`\n",
      "  edges_access_table.loc[:,'travel_time$'+subcat+'$travel_mode:walk'] = edges_access_table.loc[:,[subcat+'_walk_tt_source',subcat+'_walk_tt_target','weight']].sum(axis=1)/2\n",
      "C:\\Users\\benjamin.mirabelli\\AppData\\Local\\Temp\\ipykernel_3892\\3411824708.py:6: PerformanceWarning: DataFrame is highly fragmented.  This is usually the result of calling `frame.insert` many times, which has poor performance.  Consider joining all columns at once using pd.concat(axis=1) instead. To get a de-fragmented frame, use `newframe = frame.copy()`\n",
      "  edges_access_table.loc[:,'amenity$'+subcat+'$travel_mode:walk'] = edges_access_table.loc[:,subcat+'_walk_amenity_source']\n",
      "C:\\Users\\benjamin.mirabelli\\AppData\\Local\\Temp\\ipykernel_3892\\3411824708.py:11: PerformanceWarning: DataFrame is highly fragmented.  This is usually the result of calling `frame.insert` many times, which has poor performance.  Consider joining all columns at once using pd.concat(axis=1) instead. To get a de-fragmented frame, use `newframe = frame.copy()`\n",
      "  edges_access_table.loc[:,'travel_time$'+subcat+'$travel_mode:MTA'] = edges_access_table.loc[:,[subcat+'_mta_tt_source',subcat+'_mta_tt_target','weight']].sum(axis=1)/2\n",
      "C:\\Users\\benjamin.mirabelli\\AppData\\Local\\Temp\\ipykernel_3892\\3411824708.py:12: PerformanceWarning: DataFrame is highly fragmented.  This is usually the result of calling `frame.insert` many times, which has poor performance.  Consider joining all columns at once using pd.concat(axis=1) instead. To get a de-fragmented frame, use `newframe = frame.copy()`\n",
      "  edges_access_table.loc[:,'amenity$'+subcat+'$travel_mode:MTA'] = edges_access_table.loc[:,subcat+'_mta_amenity_source']\n",
      "C:\\Users\\benjamin.mirabelli\\AppData\\Local\\Temp\\ipykernel_3892\\3411824708.py:5: PerformanceWarning: DataFrame is highly fragmented.  This is usually the result of calling `frame.insert` many times, which has poor performance.  Consider joining all columns at once using pd.concat(axis=1) instead. To get a de-fragmented frame, use `newframe = frame.copy()`\n",
      "  edges_access_table.loc[:,'travel_time$'+subcat+'$travel_mode:walk'] = edges_access_table.loc[:,[subcat+'_walk_tt_source',subcat+'_walk_tt_target','weight']].sum(axis=1)/2\n",
      "C:\\Users\\benjamin.mirabelli\\AppData\\Local\\Temp\\ipykernel_3892\\3411824708.py:6: PerformanceWarning: DataFrame is highly fragmented.  This is usually the result of calling `frame.insert` many times, which has poor performance.  Consider joining all columns at once using pd.concat(axis=1) instead. To get a de-fragmented frame, use `newframe = frame.copy()`\n",
      "  edges_access_table.loc[:,'amenity$'+subcat+'$travel_mode:walk'] = edges_access_table.loc[:,subcat+'_walk_amenity_source']\n",
      "C:\\Users\\benjamin.mirabelli\\AppData\\Local\\Temp\\ipykernel_3892\\3411824708.py:11: PerformanceWarning: DataFrame is highly fragmented.  This is usually the result of calling `frame.insert` many times, which has poor performance.  Consider joining all columns at once using pd.concat(axis=1) instead. To get a de-fragmented frame, use `newframe = frame.copy()`\n",
      "  edges_access_table.loc[:,'travel_time$'+subcat+'$travel_mode:MTA'] = edges_access_table.loc[:,[subcat+'_mta_tt_source',subcat+'_mta_tt_target','weight']].sum(axis=1)/2\n",
      "C:\\Users\\benjamin.mirabelli\\AppData\\Local\\Temp\\ipykernel_3892\\3411824708.py:12: PerformanceWarning: DataFrame is highly fragmented.  This is usually the result of calling `frame.insert` many times, which has poor performance.  Consider joining all columns at once using pd.concat(axis=1) instead. To get a de-fragmented frame, use `newframe = frame.copy()`\n",
      "  edges_access_table.loc[:,'amenity$'+subcat+'$travel_mode:MTA'] = edges_access_table.loc[:,subcat+'_mta_amenity_source']\n",
      "C:\\Users\\benjamin.mirabelli\\AppData\\Local\\Temp\\ipykernel_3892\\3411824708.py:5: PerformanceWarning: DataFrame is highly fragmented.  This is usually the result of calling `frame.insert` many times, which has poor performance.  Consider joining all columns at once using pd.concat(axis=1) instead. To get a de-fragmented frame, use `newframe = frame.copy()`\n",
      "  edges_access_table.loc[:,'travel_time$'+subcat+'$travel_mode:walk'] = edges_access_table.loc[:,[subcat+'_walk_tt_source',subcat+'_walk_tt_target','weight']].sum(axis=1)/2\n",
      "C:\\Users\\benjamin.mirabelli\\AppData\\Local\\Temp\\ipykernel_3892\\3411824708.py:6: PerformanceWarning: DataFrame is highly fragmented.  This is usually the result of calling `frame.insert` many times, which has poor performance.  Consider joining all columns at once using pd.concat(axis=1) instead. To get a de-fragmented frame, use `newframe = frame.copy()`\n",
      "  edges_access_table.loc[:,'amenity$'+subcat+'$travel_mode:walk'] = edges_access_table.loc[:,subcat+'_walk_amenity_source']\n",
      "C:\\Users\\benjamin.mirabelli\\AppData\\Local\\Temp\\ipykernel_3892\\3411824708.py:11: PerformanceWarning: DataFrame is highly fragmented.  This is usually the result of calling `frame.insert` many times, which has poor performance.  Consider joining all columns at once using pd.concat(axis=1) instead. To get a de-fragmented frame, use `newframe = frame.copy()`\n",
      "  edges_access_table.loc[:,'travel_time$'+subcat+'$travel_mode:MTA'] = edges_access_table.loc[:,[subcat+'_mta_tt_source',subcat+'_mta_tt_target','weight']].sum(axis=1)/2\n",
      "C:\\Users\\benjamin.mirabelli\\AppData\\Local\\Temp\\ipykernel_3892\\3411824708.py:12: PerformanceWarning: DataFrame is highly fragmented.  This is usually the result of calling `frame.insert` many times, which has poor performance.  Consider joining all columns at once using pd.concat(axis=1) instead. To get a de-fragmented frame, use `newframe = frame.copy()`\n",
      "  edges_access_table.loc[:,'amenity$'+subcat+'$travel_mode:MTA'] = edges_access_table.loc[:,subcat+'_mta_amenity_source']\n",
      "C:\\Users\\benjamin.mirabelli\\AppData\\Local\\Temp\\ipykernel_3892\\3411824708.py:5: PerformanceWarning: DataFrame is highly fragmented.  This is usually the result of calling `frame.insert` many times, which has poor performance.  Consider joining all columns at once using pd.concat(axis=1) instead. To get a de-fragmented frame, use `newframe = frame.copy()`\n",
      "  edges_access_table.loc[:,'travel_time$'+subcat+'$travel_mode:walk'] = edges_access_table.loc[:,[subcat+'_walk_tt_source',subcat+'_walk_tt_target','weight']].sum(axis=1)/2\n",
      "C:\\Users\\benjamin.mirabelli\\AppData\\Local\\Temp\\ipykernel_3892\\3411824708.py:6: PerformanceWarning: DataFrame is highly fragmented.  This is usually the result of calling `frame.insert` many times, which has poor performance.  Consider joining all columns at once using pd.concat(axis=1) instead. To get a de-fragmented frame, use `newframe = frame.copy()`\n",
      "  edges_access_table.loc[:,'amenity$'+subcat+'$travel_mode:walk'] = edges_access_table.loc[:,subcat+'_walk_amenity_source']\n",
      "C:\\Users\\benjamin.mirabelli\\AppData\\Local\\Temp\\ipykernel_3892\\3411824708.py:11: PerformanceWarning: DataFrame is highly fragmented.  This is usually the result of calling `frame.insert` many times, which has poor performance.  Consider joining all columns at once using pd.concat(axis=1) instead. To get a de-fragmented frame, use `newframe = frame.copy()`\n",
      "  edges_access_table.loc[:,'travel_time$'+subcat+'$travel_mode:MTA'] = edges_access_table.loc[:,[subcat+'_mta_tt_source',subcat+'_mta_tt_target','weight']].sum(axis=1)/2\n",
      "C:\\Users\\benjamin.mirabelli\\AppData\\Local\\Temp\\ipykernel_3892\\3411824708.py:12: PerformanceWarning: DataFrame is highly fragmented.  This is usually the result of calling `frame.insert` many times, which has poor performance.  Consider joining all columns at once using pd.concat(axis=1) instead. To get a de-fragmented frame, use `newframe = frame.copy()`\n",
      "  edges_access_table.loc[:,'amenity$'+subcat+'$travel_mode:MTA'] = edges_access_table.loc[:,subcat+'_mta_amenity_source']\n",
      "C:\\Users\\benjamin.mirabelli\\AppData\\Local\\Temp\\ipykernel_3892\\3411824708.py:5: PerformanceWarning: DataFrame is highly fragmented.  This is usually the result of calling `frame.insert` many times, which has poor performance.  Consider joining all columns at once using pd.concat(axis=1) instead. To get a de-fragmented frame, use `newframe = frame.copy()`\n",
      "  edges_access_table.loc[:,'travel_time$'+subcat+'$travel_mode:walk'] = edges_access_table.loc[:,[subcat+'_walk_tt_source',subcat+'_walk_tt_target','weight']].sum(axis=1)/2\n",
      "C:\\Users\\benjamin.mirabelli\\AppData\\Local\\Temp\\ipykernel_3892\\3411824708.py:6: PerformanceWarning: DataFrame is highly fragmented.  This is usually the result of calling `frame.insert` many times, which has poor performance.  Consider joining all columns at once using pd.concat(axis=1) instead. To get a de-fragmented frame, use `newframe = frame.copy()`\n",
      "  edges_access_table.loc[:,'amenity$'+subcat+'$travel_mode:walk'] = edges_access_table.loc[:,subcat+'_walk_amenity_source']\n",
      "C:\\Users\\benjamin.mirabelli\\AppData\\Local\\Temp\\ipykernel_3892\\3411824708.py:11: PerformanceWarning: DataFrame is highly fragmented.  This is usually the result of calling `frame.insert` many times, which has poor performance.  Consider joining all columns at once using pd.concat(axis=1) instead. To get a de-fragmented frame, use `newframe = frame.copy()`\n",
      "  edges_access_table.loc[:,'travel_time$'+subcat+'$travel_mode:MTA'] = edges_access_table.loc[:,[subcat+'_mta_tt_source',subcat+'_mta_tt_target','weight']].sum(axis=1)/2\n",
      "C:\\Users\\benjamin.mirabelli\\AppData\\Local\\Temp\\ipykernel_3892\\3411824708.py:12: PerformanceWarning: DataFrame is highly fragmented.  This is usually the result of calling `frame.insert` many times, which has poor performance.  Consider joining all columns at once using pd.concat(axis=1) instead. To get a de-fragmented frame, use `newframe = frame.copy()`\n",
      "  edges_access_table.loc[:,'amenity$'+subcat+'$travel_mode:MTA'] = edges_access_table.loc[:,subcat+'_mta_amenity_source']\n",
      "C:\\Users\\benjamin.mirabelli\\AppData\\Local\\Temp\\ipykernel_3892\\3411824708.py:5: PerformanceWarning: DataFrame is highly fragmented.  This is usually the result of calling `frame.insert` many times, which has poor performance.  Consider joining all columns at once using pd.concat(axis=1) instead. To get a de-fragmented frame, use `newframe = frame.copy()`\n",
      "  edges_access_table.loc[:,'travel_time$'+subcat+'$travel_mode:walk'] = edges_access_table.loc[:,[subcat+'_walk_tt_source',subcat+'_walk_tt_target','weight']].sum(axis=1)/2\n",
      "C:\\Users\\benjamin.mirabelli\\AppData\\Local\\Temp\\ipykernel_3892\\3411824708.py:6: PerformanceWarning: DataFrame is highly fragmented.  This is usually the result of calling `frame.insert` many times, which has poor performance.  Consider joining all columns at once using pd.concat(axis=1) instead. To get a de-fragmented frame, use `newframe = frame.copy()`\n",
      "  edges_access_table.loc[:,'amenity$'+subcat+'$travel_mode:walk'] = edges_access_table.loc[:,subcat+'_walk_amenity_source']\n",
      "C:\\Users\\benjamin.mirabelli\\AppData\\Local\\Temp\\ipykernel_3892\\3411824708.py:11: PerformanceWarning: DataFrame is highly fragmented.  This is usually the result of calling `frame.insert` many times, which has poor performance.  Consider joining all columns at once using pd.concat(axis=1) instead. To get a de-fragmented frame, use `newframe = frame.copy()`\n",
      "  edges_access_table.loc[:,'travel_time$'+subcat+'$travel_mode:MTA'] = edges_access_table.loc[:,[subcat+'_mta_tt_source',subcat+'_mta_tt_target','weight']].sum(axis=1)/2\n",
      "C:\\Users\\benjamin.mirabelli\\AppData\\Local\\Temp\\ipykernel_3892\\3411824708.py:12: PerformanceWarning: DataFrame is highly fragmented.  This is usually the result of calling `frame.insert` many times, which has poor performance.  Consider joining all columns at once using pd.concat(axis=1) instead. To get a de-fragmented frame, use `newframe = frame.copy()`\n",
      "  edges_access_table.loc[:,'amenity$'+subcat+'$travel_mode:MTA'] = edges_access_table.loc[:,subcat+'_mta_amenity_source']\n",
      "C:\\Users\\benjamin.mirabelli\\AppData\\Local\\Temp\\ipykernel_3892\\3411824708.py:5: PerformanceWarning: DataFrame is highly fragmented.  This is usually the result of calling `frame.insert` many times, which has poor performance.  Consider joining all columns at once using pd.concat(axis=1) instead. To get a de-fragmented frame, use `newframe = frame.copy()`\n",
      "  edges_access_table.loc[:,'travel_time$'+subcat+'$travel_mode:walk'] = edges_access_table.loc[:,[subcat+'_walk_tt_source',subcat+'_walk_tt_target','weight']].sum(axis=1)/2\n",
      "C:\\Users\\benjamin.mirabelli\\AppData\\Local\\Temp\\ipykernel_3892\\3411824708.py:6: PerformanceWarning: DataFrame is highly fragmented.  This is usually the result of calling `frame.insert` many times, which has poor performance.  Consider joining all columns at once using pd.concat(axis=1) instead. To get a de-fragmented frame, use `newframe = frame.copy()`\n",
      "  edges_access_table.loc[:,'amenity$'+subcat+'$travel_mode:walk'] = edges_access_table.loc[:,subcat+'_walk_amenity_source']\n",
      "C:\\Users\\benjamin.mirabelli\\AppData\\Local\\Temp\\ipykernel_3892\\3411824708.py:11: PerformanceWarning: DataFrame is highly fragmented.  This is usually the result of calling `frame.insert` many times, which has poor performance.  Consider joining all columns at once using pd.concat(axis=1) instead. To get a de-fragmented frame, use `newframe = frame.copy()`\n",
      "  edges_access_table.loc[:,'travel_time$'+subcat+'$travel_mode:MTA'] = edges_access_table.loc[:,[subcat+'_mta_tt_source',subcat+'_mta_tt_target','weight']].sum(axis=1)/2\n",
      "C:\\Users\\benjamin.mirabelli\\AppData\\Local\\Temp\\ipykernel_3892\\3411824708.py:12: PerformanceWarning: DataFrame is highly fragmented.  This is usually the result of calling `frame.insert` many times, which has poor performance.  Consider joining all columns at once using pd.concat(axis=1) instead. To get a de-fragmented frame, use `newframe = frame.copy()`\n",
      "  edges_access_table.loc[:,'amenity$'+subcat+'$travel_mode:MTA'] = edges_access_table.loc[:,subcat+'_mta_amenity_source']\n"
     ]
    }
   ],
   "source": [
    "edges_access_table = Network_edges_walk[['uniqueID','source','target','weight']].merge(travel_source, how='left', on='source').merge(travel_target, how='left', on='target')\n",
    "edges_access_table = edges_access_table.fillna(2*60*60)\n",
    "\n",
    "for subcat in amenity_nodes['SubCategoryName'].unique():\n",
    "    edges_access_table.loc[:,'travel_time$'+subcat+'$travel_mode:walk'] = edges_access_table.loc[:,[subcat+'_walk_tt_source',subcat+'_walk_tt_target','weight']].sum(axis=1)/2\n",
    "    edges_access_table.loc[:,'amenity$'+subcat+'$travel_mode:walk'] = edges_access_table.loc[:,subcat+'_walk_amenity_source']\n",
    "    edges_access_table.loc[~(edges_access_table[subcat+'_walk_tt_source']<=edges_access_table[subcat+'_walk_tt_target']),'amenity$'+subcat+'$travel_mode:walk'] = edges_access_table.loc[~(edges_access_table[subcat+'_walk_tt_source']<=edges_access_table[subcat+'_walk_tt_target']),subcat+'_walk_amenity_target']\n",
    "    edges_access_table.loc[edges_access_table['travel_time$'+subcat+'$travel_mode:walk']>=2*60*60,'amenity$'+subcat+'$travel_mode:walk'] = 'not_in_range'\n",
    "\n",
    "\n",
    "    edges_access_table.loc[:,'travel_time$'+subcat+'$travel_mode:MTA'] = edges_access_table.loc[:,[subcat+'_mta_tt_source',subcat+'_mta_tt_target','weight']].sum(axis=1)/2\n",
    "    edges_access_table.loc[:,'amenity$'+subcat+'$travel_mode:MTA'] = edges_access_table.loc[:,subcat+'_mta_amenity_source']\n",
    "    edges_access_table.loc[~(edges_access_table[subcat+'_mta_tt_source']<=edges_access_table[subcat+'_mta_tt_target']),'amenity$'+subcat+'$travel_mode:MTA'] = edges_access_table.loc[~(edges_access_table[subcat+'_mta_tt_source']<=edges_access_table[subcat+'_mta_tt_target']),subcat+'_mta_amenity_target']\n",
    "    edges_access_table.loc[edges_access_table['travel_time$'+subcat+'$travel_mode:MTA']>=2*60*60,'amenity$'+subcat+'$travel_mode:MTA'] = 'not_in_range'"
   ]
  },
  {
   "cell_type": "code",
   "execution_count": 14,
   "metadata": {},
   "outputs": [],
   "source": [
    "Segment_travel_time_table = Network_edges_walk[['uniqueID','Street','From','To','CommunityBoard','DAC_ID','DAC_Designation','Precinct', 'GVP','Trie_label','Trie_name','Council_District','Boro','NYPDID','CT2020','CT2020Suf','CB2020','CB2020Suf','length','Geo_ID','population', 'geometry']]"
   ]
  },
  {
   "cell_type": "code",
   "execution_count": 15,
   "metadata": {},
   "outputs": [],
   "source": [
    "edges_travel_time_table = edges_access_table.loc[:,(['uniqueID'] + edges_access_table.columns[edges_access_table.columns.str.contains('travel_time')].to_list())]\n",
    "\n",
    "cat_cols = edges_travel_time_table.columns[edges_travel_time_table.columns.str.contains('travel_time')].to_list()\n",
    "edges_travel_time_table.loc[:,cat_cols] = (edges_travel_time_table.loc[:,cat_cols]/60).astype(int)+1"
   ]
  },
  {
   "cell_type": "code",
   "execution_count": 16,
   "metadata": {},
   "outputs": [],
   "source": [
    "Segment_travel_time_table = Segment_travel_time_table.merge(edges_travel_time_table, on='uniqueID', how='left')"
   ]
  },
  {
   "cell_type": "markdown",
   "metadata": {},
   "source": [
    "## Export Travel Time Table"
   ]
  },
  {
   "cell_type": "code",
   "execution_count": null,
   "metadata": {},
   "outputs": [],
   "source": [
    "# ###################################################\n",
    "# # Upload/save this segment travel time table to SQL server, as a GeoJSON, or however you want to store it so that they can be accessed by the third vital parks script\n",
    "# ###################################################\n",
    "\n",
    "# Segment_travel_time_table.to_file('Segment_Travel_Time.geojson', driver='GeoJSON')"
   ]
  },
  {
   "cell_type": "markdown",
   "metadata": {},
   "source": [
    "# END Vital Parks Script Part 3"
   ]
  }
 ],
 "metadata": {
  "kernelspec": {
   "display_name": "Python 3",
   "language": "python",
   "name": "python3"
  },
  "language_info": {
   "codemirror_mode": {
    "name": "ipython",
    "version": 3
   },
   "file_extension": ".py",
   "mimetype": "text/x-python",
   "name": "python",
   "nbconvert_exporter": "python",
   "pygments_lexer": "ipython3",
   "version": "3.12.3"
  }
 },
 "nbformat": 4,
 "nbformat_minor": 4
}
